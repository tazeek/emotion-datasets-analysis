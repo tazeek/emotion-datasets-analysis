{
 "cells": [
  {
   "cell_type": "code",
   "execution_count": null,
   "id": "e04d72f2",
   "metadata": {},
   "outputs": [],
   "source": [
    "from EmoryExtractor import EmoryExtractor\n",
    "import plotly.express as px\n",
    "import pandas as pd"
   ]
  },
  {
   "cell_type": "code",
   "execution_count": null,
   "id": "440b886f",
   "metadata": {},
   "outputs": [],
   "source": [
    "# Load the data\n",
    "emory_extractor = EmoryExtractor()\n",
    "\n",
    "json_file = emory_extractor.load_file()"
   ]
  },
  {
   "cell_type": "code",
   "execution_count": null,
   "id": "2d532b81",
   "metadata": {},
   "outputs": [],
   "source": [
    "season_episodes_dict = {\n",
    "    'season_no': [],\n",
    "    'episodes': []\n",
    "}\n",
    "\n",
    "def episode_iteration(episode):\n",
    "    pass\n",
    "\n",
    "# First layer: Go through seasons\n",
    "for season in json_file:\n",
    "    season_number = season['season_id']\n",
    "    episodes = season['episodes']\n",
    "    \n",
    "    season_episodes_dict[season_no].append(season_number)\n",
    "    season_episodes_dict[episodes].append(len(episodes))\n",
    "    \n",
    "    # Second layer: Go through episodes\n"
   ]
  },
  {
   "cell_type": "markdown",
   "id": "6bc5bf4a",
   "metadata": {},
   "source": [
    "# Layer 1 Analysis\n",
    "\n",
    "- Count the number of episodes per season (Bar Chart - Cell 4)\n",
    "- Episodes are stored in sequential order (Quick glance in dataset - Manually)\n",
    "- Count the number of scenes per episode"
   ]
  },
  {
   "cell_type": "code",
   "execution_count": null,
   "id": "6324a1ae",
   "metadata": {},
   "outputs": [],
   "source": [
    "season_episodes_df = pd.DataFrame(season_episodes_dict)\n",
    "print(season_episodes_df)\n",
    "\n",
    "fig = px.bar(season_episodes_df, x='season_no', y='episodes')\n",
    "fig.show()"
   ]
  },
  {
   "cell_type": "code",
   "execution_count": null,
   "id": "47de4f0d",
   "metadata": {},
   "outputs": [],
   "source": []
  }
 ],
 "metadata": {
  "kernelspec": {
   "display_name": "Python 3 (ipykernel)",
   "language": "python",
   "name": "python3"
  },
  "language_info": {
   "codemirror_mode": {
    "name": "ipython",
    "version": 3
   },
   "file_extension": ".py",
   "mimetype": "text/x-python",
   "name": "python",
   "nbconvert_exporter": "python",
   "pygments_lexer": "ipython3",
   "version": "3.9.12"
  }
 },
 "nbformat": 4,
 "nbformat_minor": 5
}
