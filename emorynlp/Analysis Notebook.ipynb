{
 "cells": [
  {
   "cell_type": "code",
   "execution_count": 3,
   "id": "e04d72f2",
   "metadata": {},
   "outputs": [],
   "source": [
    "from EmoryExtractor import EmoryExtractor\n",
    "import plotly.express as px"
   ]
  },
  {
   "cell_type": "code",
   "execution_count": 4,
   "id": "440b886f",
   "metadata": {},
   "outputs": [],
   "source": [
    "# Load the data\n",
    "emory_extractor = EmoryExtractor()\n",
    "\n",
    "json_file = emory_extractor.load_file()"
   ]
  },
  {
   "cell_type": "code",
   "execution_count": 6,
   "id": "2d532b81",
   "metadata": {},
   "outputs": [
    {
     "name": "stdout",
     "output_type": "stream",
     "text": [
      "24\n",
      "24\n",
      "25\n",
      "24\n",
      "24\n",
      "25\n",
      "24\n",
      "24\n",
      "24\n",
      "18\n"
     ]
    }
   ],
   "source": [
    "season_episodes_dict = {}\n",
    "\n",
    "for season in json_file:\n",
    "    season_number = season['season_id']\n",
    "    episodes = season['episodes']\n",
    "    \n",
    "    season_episodes_dict[season_number] = len(episodes)\n"
   ]
  },
  {
   "cell_type": "code",
   "execution_count": 7,
   "id": "cc791b2b",
   "metadata": {},
   "outputs": [
    {
     "name": "stdout",
     "output_type": "stream",
     "text": [
      "{'s01': 24, 's02': 24, 's03': 25, 's04': 24, 's05': 24, 's06': 25, 's07': 24, 's08': 24, 's09': 24, 's10': 18}\n"
     ]
    }
   ],
   "source": [
    "print(season_episodes_dict)"
   ]
  },
  {
   "cell_type": "code",
   "execution_count": null,
   "id": "38d8f1df",
   "metadata": {},
   "outputs": [],
   "source": []
  }
 ],
 "metadata": {
  "kernelspec": {
   "display_name": "Python 3 (ipykernel)",
   "language": "python",
   "name": "python3"
  },
  "language_info": {
   "codemirror_mode": {
    "name": "ipython",
    "version": 3
   },
   "file_extension": ".py",
   "mimetype": "text/x-python",
   "name": "python",
   "nbconvert_exporter": "python",
   "pygments_lexer": "ipython3",
   "version": "3.9.12"
  }
 },
 "nbformat": 4,
 "nbformat_minor": 5
}
