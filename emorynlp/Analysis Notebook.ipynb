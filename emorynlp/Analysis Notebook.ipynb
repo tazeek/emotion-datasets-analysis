{
 "cells": [
  {
   "cell_type": "code",
   "execution_count": 1,
   "id": "e04d72f2",
   "metadata": {},
   "outputs": [],
   "source": [
    "from EmoryExtractor import EmoryExtractor"
   ]
  },
  {
   "cell_type": "code",
   "execution_count": 2,
   "id": "440b886f",
   "metadata": {},
   "outputs": [],
   "source": [
    "# Load the data\n",
    "emory_extractor = EmoryExtractor()\n",
    "\n",
    "json_file = emory_extractor.load_file()"
   ]
  },
  {
   "cell_type": "code",
   "execution_count": 4,
   "id": "3ebbaf66",
   "metadata": {},
   "outputs": [
    {
     "name": "stdout",
     "output_type": "stream",
     "text": [
      "10\n"
     ]
    }
   ],
   "source": [
    "print(len(json_file))"
   ]
  },
  {
   "cell_type": "code",
   "execution_count": 8,
   "id": "2d532b81",
   "metadata": {},
   "outputs": [
    {
     "name": "stdout",
     "output_type": "stream",
     "text": [
      "24\n",
      "24\n",
      "25\n",
      "24\n",
      "24\n",
      "25\n",
      "24\n",
      "24\n",
      "24\n",
      "18\n"
     ]
    }
   ],
   "source": [
    "for season in json_file:\n",
    "    season_number = season['season_id']\n",
    "    episodes = season['episodes']\n",
    "    \n",
    "    print(len(episodes))"
   ]
  }
 ],
 "metadata": {
  "kernelspec": {
   "display_name": "Python 3 (ipykernel)",
   "language": "python",
   "name": "python3"
  },
  "language_info": {
   "codemirror_mode": {
    "name": "ipython",
    "version": 3
   },
   "file_extension": ".py",
   "mimetype": "text/x-python",
   "name": "python",
   "nbconvert_exporter": "python",
   "pygments_lexer": "ipython3",
   "version": "3.9.6"
  }
 },
 "nbformat": 4,
 "nbformat_minor": 5
}
