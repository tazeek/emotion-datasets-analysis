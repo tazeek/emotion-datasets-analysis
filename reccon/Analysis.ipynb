{
 "cells": [
  {
   "cell_type": "code",
   "execution_count": 1,
   "id": "bf49a4aa",
   "metadata": {},
   "outputs": [],
   "source": [
    "import json"
   ]
  },
  {
   "cell_type": "code",
   "execution_count": 2,
   "id": "b86b6f51",
   "metadata": {},
   "outputs": [],
   "source": [
    "json_file = json.load(open('data_level0.json',encoding=\"utf-8\"))"
   ]
  },
  {
   "cell_type": "code",
   "execution_count": 15,
   "id": "ce6d9f17",
   "metadata": {},
   "outputs": [
    {
     "name": "stdout",
     "output_type": "stream",
     "text": [
      "Test size: 225\n",
      "Train size: 834\n",
      "Validation size: 47\n"
     ]
    }
   ],
   "source": [
    "# Index 0: Test file (https://github.com/declare-lab/RECCON/blob/main/data/original_annotation/dailydialog_test.json)\n",
    "# Index 1: Train file (https://github.com/declare-lab/RECCON/blob/main/data/original_annotation/dailydialog_train.json)\n",
    "# Index 2: Valid file (https://github.com/declare-lab/RECCON/blob/main/data/original_annotation/dailydialog_valid.json)\n",
    "dataset_div = ['Test', 'Train', 'Validation']\n",
    "for index, label in enumerate(dataset_div):\n",
    "    print(f\"{label} size: {len(json_file[index].keys())}\")"
   ]
  },
  {
   "cell_type": "code",
   "execution_count": 8,
   "id": "891e9c28",
   "metadata": {},
   "outputs": [
    {
     "data": {
      "text/plain": [
       "834"
      ]
     },
     "execution_count": 8,
     "metadata": {},
     "output_type": "execute_result"
    }
   ],
   "source": [
    "# Test water with train set\n",
    "train = json_file[1]\n",
    "\n",
    "for key in train."
   ]
  }
 ],
 "metadata": {
  "kernelspec": {
   "display_name": "Python 3 (ipykernel)",
   "language": "python",
   "name": "python3"
  },
  "language_info": {
   "codemirror_mode": {
    "name": "ipython",
    "version": 3
   },
   "file_extension": ".py",
   "mimetype": "text/x-python",
   "name": "python",
   "nbconvert_exporter": "python",
   "pygments_lexer": "ipython3",
   "version": "3.9.12"
  }
 },
 "nbformat": 4,
 "nbformat_minor": 5
}
