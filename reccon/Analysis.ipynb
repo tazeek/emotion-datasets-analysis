{
 "cells": [
  {
   "cell_type": "markdown",
   "id": "ca07b97e",
   "metadata": {},
   "source": [
    "# Annotation Guideline information\n",
    "\n",
    "Given an utterance Ut labeled with an emotion Et, the annotators were asked to extract the set of causal spans CS(Ut) that sufficiently represent the causes of the emotion Et. If the cause of Et was latent, i.e., there was no explicit\n",
    "causal span in the dialog, the annotators wrote down the assumed causes that they inferred from the text.\n",
    "\n",
    "In fact, the annotators were asked to look for the casual spans of Ut in the whole\n",
    "dialog and not only in the past history H(Ut). "
   ]
  },
  {
   "cell_type": "code",
   "execution_count": 2,
   "id": "1054b5ce",
   "metadata": {},
   "outputs": [],
   "source": [
    "import json"
   ]
  },
  {
   "cell_type": "code",
   "execution_count": 3,
   "id": "16bd5288",
   "metadata": {},
   "outputs": [],
   "source": [
    "json_file = json.load(open('data_level0.json',encoding=\"utf-8\"))"
   ]
  },
  {
   "cell_type": "code",
   "execution_count": 4,
   "id": "42918329",
   "metadata": {},
   "outputs": [
    {
     "name": "stdout",
     "output_type": "stream",
     "text": [
      "Test size: 225\n",
      "Train size: 834\n",
      "Validation size: 47\n"
     ]
    }
   ],
   "source": [
    "# Index 0: Test file (https://github.com/declare-lab/RECCON/blob/main/data/original_annotation/dailydialog_test.json)\n",
    "# Index 1: Train file (https://github.com/declare-lab/RECCON/blob/main/data/original_annotation/dailydialog_train.json)\n",
    "# Index 2: Valid file (https://github.com/declare-lab/RECCON/blob/main/data/original_annotation/dailydialog_valid.json)\n",
    "dataset_div = ['Test', 'Train', 'Validation']\n",
    "for index, label in enumerate(dataset_div):\n",
    "    print(f\"{label} size: {len(json_file[index].keys())}\")"
   ]
  },
  {
   "cell_type": "code",
   "execution_count": 9,
   "id": "d3f12937",
   "metadata": {},
   "outputs": [
    {
     "name": "stdout",
     "output_type": "stream",
     "text": [
      "{'turn': 1, 'speaker': 'A', 'utterance': 'Hey , you wanna see a movie tomorrow ?', 'emotion': 'happiness', 'expanded emotion cause evidence': [1], 'expanded emotion cause span': ['see a movie tomorrow ?'], 'type': ['no-context']}\n",
      "\n",
      "\n",
      "{'turn': 2, 'speaker': 'B', 'utterance': 'Sounds like a good plan . What do you want to see ?', 'emotion': 'happiness', 'expanded emotion cause evidence': [1], 'expanded emotion cause span': ['see a movie tomorrow ?'], 'type': ['inter-personal']}\n",
      "\n",
      "\n",
      "{'turn': 3, 'speaker': 'A', 'utterance': 'How about Legally Blonde .', 'emotion': 'neutral'}\n",
      "\n",
      "\n",
      "{'turn': 4, 'speaker': 'B', 'utterance': \"Ah , my girlfriend wanted to see that movie . I have to take her later so I don't want to watch it ahead of time . How about The Cube ?\", 'emotion': 'neutral'}\n",
      "\n",
      "\n",
      "{'turn': 5, 'speaker': 'A', 'utterance': \"Isn't that a scary movie ?\", 'emotion': 'neutral'}\n",
      "\n",
      "\n",
      "{'turn': 6, 'speaker': 'B', 'utterance': \"How scary can it be ? Come on , it'll be fun .\", 'emotion': 'neutral'}\n",
      "\n",
      "\n",
      "{'turn': 7, 'speaker': 'A', 'utterance': \"Ok . I'll give it a try .\", 'emotion': 'happiness', 'expanded emotion cause evidence': [6], 'expanded emotion cause span': [\"it'll be fun .\"], 'type': ['inter-personal']}\n",
      "\n",
      "\n",
      "{'turn': 8, 'speaker': 'B', 'utterance': \"That's the spirit . I'll see you tomorrow after class .\", 'emotion': 'happiness', 'expanded emotion cause evidence': [6, 7], 'expanded emotion cause span': [\"it'll be fun .\", \"Ok . I'll give it a try .\"], 'type': ['hybrid']}\n",
      "\n",
      "\n",
      "{'turn': 9, 'speaker': 'A', 'utterance': 'Ok . See you tomorrow .', 'emotion': 'happiness', 'expanded emotion cause evidence': [1, 6], 'expanded emotion cause span': ['see a movie tomorrow ?', \"it'll be fun .\"], 'type': ['hybrid']}\n",
      "\n",
      "\n"
     ]
    }
   ],
   "source": [
    "# Test water with train set\n",
    "train = json_file[1]\n",
    "\n",
    "def parse_dialogue_dict(dialogue: dict) -> None:\n",
    "    \n",
    "    print(dialogue)\n",
    "\n",
    "for key in train.keys():\n",
    "    \n",
    "    # Layer 1: Extract the full list of utterances and turns\n",
    "    # Each key contains a dialogue set\n",
    "    dialogue_set = train[key][0]\n",
    "    \n",
    "    # Layer 2\n",
    "    for dialogue in dialogue_set:\n",
    "        parse_dialogue_dict(dialogue)\n",
    "        print(\"\\n\")\n",
    "    break"
   ]
  },
  {
   "cell_type": "code",
   "execution_count": null,
   "id": "5a7b6a26",
   "metadata": {},
   "outputs": [],
   "source": []
  }
 ],
 "metadata": {
  "kernelspec": {
   "display_name": "Python 3 (ipykernel)",
   "language": "python",
   "name": "python3"
  },
  "language_info": {
   "codemirror_mode": {
    "name": "ipython",
    "version": 3
   },
   "file_extension": ".py",
   "mimetype": "text/x-python",
   "name": "python",
   "nbconvert_exporter": "python",
   "pygments_lexer": "ipython3",
   "version": "3.9.12"
  }
 },
 "nbformat": 4,
 "nbformat_minor": 5
}
