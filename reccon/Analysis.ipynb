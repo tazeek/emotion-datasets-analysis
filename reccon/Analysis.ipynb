{
 "cells": [
  {
   "cell_type": "markdown",
   "id": "ca07b97e",
   "metadata": {},
   "source": [
    "# Annotation Guideline information\n",
    "\n",
    "Given an utterance Ut labeled with an emotion Et, the annotators were asked to extract the set of causal spans CS(Ut) that sufficiently represent the causes of the emotion Et. If the cause of Et was latent, i.e., there was no explicit\n",
    "causal span in the dialog, the annotators wrote down the assumed causes that they inferred from the text.\n",
    "\n",
    "In fact, the annotators were asked to look for the casual spans of Ut in the whole\n",
    "dialog and not only in the past history H(Ut). "
   ]
  },
  {
   "cell_type": "code",
   "execution_count": 1,
   "id": "1054b5ce",
   "metadata": {},
   "outputs": [],
   "source": [
    "import json\n",
    "import plotly.express as px\n",
    "import pandas as pd"
   ]
  },
  {
   "cell_type": "code",
   "execution_count": 2,
   "id": "16bd5288",
   "metadata": {},
   "outputs": [],
   "source": [
    "json_file = json.load(open('data_level0.json',encoding=\"utf-8\"))"
   ]
  },
  {
   "cell_type": "code",
   "execution_count": 3,
   "id": "42918329",
   "metadata": {},
   "outputs": [
    {
     "name": "stdout",
     "output_type": "stream",
     "text": [
      "Test size: 225\n",
      "Train size: 834\n",
      "Validation size: 47\n"
     ]
    }
   ],
   "source": [
    "# Index 0: Test file (https://github.com/declare-lab/RECCON/blob/main/data/original_annotation/dailydialog_test.json)\n",
    "# Index 1: Train file (https://github.com/declare-lab/RECCON/blob/main/data/original_annotation/dailydialog_train.json)\n",
    "# Index 2: Valid file (https://github.com/declare-lab/RECCON/blob/main/data/original_annotation/dailydialog_valid.json)\n",
    "dataset_div = ['Test', 'Train', 'Validation']\n",
    "for index, label in enumerate(dataset_div):\n",
    "    print(f\"{label} size: {len(json_file[index].keys())}\")"
   ]
  },
  {
   "cell_type": "code",
   "execution_count": 4,
   "id": "d3f12937",
   "metadata": {},
   "outputs": [
    {
     "name": "stdout",
     "output_type": "stream",
     "text": [
      "{'turn': 1, 'speaker': 'A', 'utterance': 'Hey , you wanna see a movie tomorrow ?', 'emotion': 'happiness', 'expanded emotion cause evidence': [1], 'expanded emotion cause span': ['see a movie tomorrow ?'], 'type': ['no-context']}\n",
      "\n",
      "\n",
      "{'turn': 2, 'speaker': 'B', 'utterance': 'Sounds like a good plan . What do you want to see ?', 'emotion': 'happiness', 'expanded emotion cause evidence': [1], 'expanded emotion cause span': ['see a movie tomorrow ?'], 'type': ['inter-personal']}\n",
      "\n",
      "\n",
      "{'turn': 3, 'speaker': 'A', 'utterance': 'How about Legally Blonde .', 'emotion': 'neutral'}\n",
      "\n",
      "\n",
      "{'turn': 4, 'speaker': 'B', 'utterance': \"Ah , my girlfriend wanted to see that movie . I have to take her later so I don't want to watch it ahead of time . How about The Cube ?\", 'emotion': 'neutral'}\n",
      "\n",
      "\n",
      "{'turn': 5, 'speaker': 'A', 'utterance': \"Isn't that a scary movie ?\", 'emotion': 'neutral'}\n",
      "\n",
      "\n",
      "{'turn': 6, 'speaker': 'B', 'utterance': \"How scary can it be ? Come on , it'll be fun .\", 'emotion': 'neutral'}\n",
      "\n",
      "\n",
      "{'turn': 7, 'speaker': 'A', 'utterance': \"Ok . I'll give it a try .\", 'emotion': 'happiness', 'expanded emotion cause evidence': [6], 'expanded emotion cause span': [\"it'll be fun .\"], 'type': ['inter-personal']}\n",
      "\n",
      "\n",
      "{'turn': 8, 'speaker': 'B', 'utterance': \"That's the spirit . I'll see you tomorrow after class .\", 'emotion': 'happiness', 'expanded emotion cause evidence': [6, 7], 'expanded emotion cause span': [\"it'll be fun .\", \"Ok . I'll give it a try .\"], 'type': ['hybrid']}\n",
      "\n",
      "\n",
      "{'turn': 9, 'speaker': 'A', 'utterance': 'Ok . See you tomorrow .', 'emotion': 'happiness', 'expanded emotion cause evidence': [1, 6], 'expanded emotion cause span': ['see a movie tomorrow ?', \"it'll be fun .\"], 'type': ['hybrid']}\n",
      "\n",
      "\n"
     ]
    }
   ],
   "source": [
    "# Test water with train set\n",
    "train = json_file[1]\n",
    "\n",
    "def parse_dialogue_dict(dialogue: dict) -> None:\n",
    "    \n",
    "    print(dialogue)\n",
    "\n",
    "for key in train.keys():\n",
    "    \n",
    "    # Layer 1: Extract the full list of utterances and turns\n",
    "    # Each key contains a dialogue set\n",
    "    dialogue_set = train[key][0]\n",
    "    \n",
    "    # Layer 2\n",
    "    for dialogue in dialogue_set:\n",
    "        parse_dialogue_dict(dialogue)\n",
    "        print(\"\\n\")\n",
    "    break"
   ]
  },
  {
   "cell_type": "markdown",
   "id": "3aafaafd",
   "metadata": {},
   "source": [
    "# Layer 1\n",
    "\n",
    "- Find the distribution of the emotions (Bar chart)\n",
    "- Find the distribution of type (Bar chart)"
   ]
  },
  {
   "cell_type": "code",
   "execution_count": 5,
   "id": "ec3a96f6",
   "metadata": {},
   "outputs": [
    {
     "ename": "TypeError",
     "evalue": "get_utterance_length() takes 1 positional argument but 2 were given",
     "output_type": "error",
     "traceback": [
      "\u001b[1;31m---------------------------------------------------------------------------\u001b[0m",
      "\u001b[1;31mTypeError\u001b[0m                                 Traceback (most recent call last)",
      "\u001b[1;32m~\\AppData\\Local\\Temp\\ipykernel_18484\\995190140.py\u001b[0m in \u001b[0;36m<cell line: 22>\u001b[1;34m()\u001b[0m\n\u001b[0;32m     52\u001b[0m             \u001b[0mtype_counter\u001b[0m\u001b[1;33m[\u001b[0m\u001b[1;34m'empty'\u001b[0m\u001b[1;33m]\u001b[0m \u001b[1;33m=\u001b[0m \u001b[0mtype_counter\u001b[0m\u001b[1;33m.\u001b[0m\u001b[0mget\u001b[0m\u001b[1;33m(\u001b[0m\u001b[1;34m'empty'\u001b[0m\u001b[1;33m,\u001b[0m \u001b[1;36m0\u001b[0m\u001b[1;33m)\u001b[0m \u001b[1;33m+\u001b[0m \u001b[1;36m1\u001b[0m\u001b[1;33m\u001b[0m\u001b[1;33m\u001b[0m\u001b[0m\n\u001b[0;32m     53\u001b[0m \u001b[1;33m\u001b[0m\u001b[0m\n\u001b[1;32m---> 54\u001b[1;33m         \u001b[0mutterance_length\u001b[0m \u001b[1;33m=\u001b[0m \u001b[0mget_utterance_length\u001b[0m\u001b[1;33m(\u001b[0m\u001b[0mutterance_length_list\u001b[0m\u001b[1;33m,\u001b[0m \u001b[0mutterance\u001b[0m\u001b[1;33m[\u001b[0m\u001b[1;34m'utterance'\u001b[0m\u001b[1;33m]\u001b[0m\u001b[1;33m)\u001b[0m\u001b[1;33m\u001b[0m\u001b[1;33m\u001b[0m\u001b[0m\n\u001b[0m\u001b[0;32m     55\u001b[0m         \u001b[0mutterance_length_list\u001b[0m \u001b[1;33m+=\u001b[0m \u001b[1;33m[\u001b[0m\u001b[0mutterance_length\u001b[0m\u001b[1;33m]\u001b[0m\u001b[1;33m\u001b[0m\u001b[1;33m\u001b[0m\u001b[0m\n",
      "\u001b[1;31mTypeError\u001b[0m: get_utterance_length() takes 1 positional argument but 2 were given"
     ]
    }
   ],
   "source": [
    "def increment_type_counter(type_counter: dict, type_list: list) -> None:\n",
    "    \n",
    "    for type in type_list:\n",
    "        type_counter[type] = type_counter.get(type, 0) + 1\n",
    "        \n",
    "    return None\n",
    "\n",
    "def get_utterance_length(utterance: str) -> int:\n",
    "    return len(utterance.split(\" \"))\n",
    "\n",
    "emotion_counter = {}\n",
    "type_counter = {}\n",
    "\n",
    "dialog_len_emotion_dict = {\n",
    "    'odd': {},\n",
    "    'even': {}\n",
    "}\n",
    "\n",
    "num_utterance_list = []\n",
    "utterance_length_list = []\n",
    "\n",
    "for key in train.keys():\n",
    "    \n",
    "    # Layer 1: Extract the full list of utterances and turns\n",
    "    # Each key contains an utterance list\n",
    "    dialogue_set = train[key][0]\n",
    "    \n",
    "    num_utterances = len(dialogue_set)\n",
    "    \n",
    "    value = 'odd' if num_utterances % 2 != 0 else 'even'\n",
    "    inner_dictionary = dialog_len_emotion_dict[value]\n",
    "    \n",
    "    num_utterance_list += [num_utterances]\n",
    "    \n",
    "    # Layer 2: Go one utterance at a time\n",
    "    for utterance in dialogue_set:\n",
    "        emotion = utterance['emotion']\n",
    "        \n",
    "        # Check for length of dialogue\n",
    "        if emotion not in inner_dictionary:\n",
    "            dialog_len_emotion_dict[value][emotion] = 1\n",
    "        else:\n",
    "            dialog_len_emotion_dict[value][emotion] += 1\n",
    "        \n",
    "        # For emotion counts\n",
    "        emotion_counter[emotion] = emotion_counter.get(emotion, 0) + 1\n",
    "        \n",
    "        # For emotion-cause-type counts\n",
    "        if 'type' in utterance:\n",
    "            increment_type_counter(type_counter, utterance['type'])\n",
    "        else:\n",
    "            type_counter['empty'] = type_counter.get('empty', 0) + 1\n",
    "        \n",
    "        utterance_length = get_utterance_length(utterance['utterance'])\n",
    "        utterance_length_list += [utterance_length]"
   ]
  },
  {
   "cell_type": "code",
   "execution_count": null,
   "id": "494fb4ae",
   "metadata": {},
   "outputs": [],
   "source": [
    "# Find the distribution of the emotions\n",
    "emotion_counter_df = pd.DataFrame(emotion_counter.items(), columns=['emotion', 'count'])\n",
    "\n",
    "fig = px.bar(emotion_counter_df, x='emotion', y='count', title='Emotion Counts')\n",
    "fig.update_layout(hovermode=\"x\")\n",
    "fig.show()"
   ]
  },
  {
   "cell_type": "code",
   "execution_count": null,
   "id": "f5be5af0",
   "metadata": {},
   "outputs": [],
   "source": [
    "# Find the distribution of type \n",
    "type_counter_df = pd.DataFrame(type_counter.items(), columns=['type', 'count'])\n",
    "\n",
    "fig = px.bar(type_counter_df, x='type', y='count', title='Emotion Counts')\n",
    "fig.update_layout(hovermode=\"x\")\n",
    "fig.show()"
   ]
  },
  {
   "cell_type": "markdown",
   "id": "3623bfda",
   "metadata": {},
   "source": [
    "# Layer 2\n",
    "\n",
    "- Find the distribution of the expanded emotion cause span (Histogram)\n",
    "- Find the number of utterances per dialog (Histogram + Total count)\n",
    "- Find the number of words per utterance (Histogram + Total count)"
   ]
  },
  {
   "cell_type": "code",
   "execution_count": null,
   "id": "c4370106",
   "metadata": {},
   "outputs": [],
   "source": [
    "# Find the number of utterances per dialog (Histogram + Total count)\n",
    "print(f\"Total number of utterances: {sum(num_utterance_list)}\")\n",
    "num_utterance_df = pd.DataFrame(num_utterance_list, columns=['utterance_per_dialogue'])\n",
    "\n",
    "fig = px.histogram(num_utterance_df, x=\"utterance_per_dialogue\")\n",
    "fig.update_layout(bargap=0.5, hovermode=\"x\")\n",
    "fig.show()"
   ]
  },
  {
   "cell_type": "code",
   "execution_count": null,
   "id": "7e646d3a",
   "metadata": {},
   "outputs": [],
   "source": [
    "# Find the number of words per utterance\n",
    "print(f\"Total number of words: {sum(utterance_length_list)}\")\n",
    "utterance_length_df = pd.DataFrame(utterance_length_list, columns=['utterance_length'])\n",
    "\n",
    "fig = px.histogram(utterance_length_df, x=\"utterance_length\")\n",
    "fig.update_layout(bargap=0.5, hovermode=\"x\")\n",
    "fig.show()"
   ]
  },
  {
   "cell_type": "markdown",
   "id": "bb937a84",
   "metadata": {},
   "source": [
    "# Self Analysis\n",
    "\n",
    "- There are 8,206 utterances.\n",
    "- There are a total of 112,553 tokens/words."
   ]
  },
  {
   "cell_type": "markdown",
   "id": "0e0d2208",
   "metadata": {},
   "source": [
    "# Layer 3\n",
    "\n",
    "- Cross check utterance length and emotion (Even number length vs odd number length)\n",
    "- Distribution of total utterance length in one dialog\n",
    "- Cross check utterance length and emotions"
   ]
  },
  {
   "cell_type": "code",
   "execution_count": null,
   "id": "fc7c5e02",
   "metadata": {},
   "outputs": [],
   "source": [
    "print(dialog_len_emotion_dict)"
   ]
  },
  {
   "cell_type": "code",
   "execution_count": null,
   "id": "e61b9c1d",
   "metadata": {},
   "outputs": [],
   "source": [
    "# Check for distribution of utterance length in a single dialog"
   ]
  },
  {
   "cell_type": "code",
   "execution_count": null,
   "id": "fea86ece",
   "metadata": {},
   "outputs": [],
   "source": [
    "# Check between utterance length and given emotion"
   ]
  }
 ],
 "metadata": {
  "kernelspec": {
   "display_name": "Python 3 (ipykernel)",
   "language": "python",
   "name": "python3"
  },
  "language_info": {
   "codemirror_mode": {
    "name": "ipython",
    "version": 3
   },
   "file_extension": ".py",
   "mimetype": "text/x-python",
   "name": "python",
   "nbconvert_exporter": "python",
   "pygments_lexer": "ipython3",
   "version": "3.9.12"
  }
 },
 "nbformat": 4,
 "nbformat_minor": 5
}
