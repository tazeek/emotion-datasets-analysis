{
 "cells": [
  {
   "cell_type": "code",
   "execution_count": 1,
   "id": "34856a9a",
   "metadata": {},
   "outputs": [],
   "source": [
    "import plotly.express as px"
   ]
  },
  {
   "cell_type": "code",
   "execution_count": 13,
   "id": "a2f55053",
   "metadata": {},
   "outputs": [],
   "source": [
    "# Load the labels\n",
    "def load_labels(filename: str) -> dict:\n",
    "    \n",
    "    dict_storage = {}\n",
    "    \n",
    "    with open(filename) as file:\n",
    "        for index, line in enumerate(file):\n",
    "            dict_storage[index] = line.strip().split(' ')\n",
    "    \n",
    "    return dict_storage\n",
    "\n",
    "dialog_act_dict = load_labels('dailydialog/dialogues_act.txt')\n",
    "emotion_dict = load_labels('dailydialog/dialogues_emotion.txt')"
   ]
  },
  {
   "cell_type": "code",
   "execution_count": 14,
   "id": "22846621",
   "metadata": {},
   "outputs": [],
   "source": [
    "# Validation\n",
    "\n",
    "for index, act_labels in dialog_act_dict.items():\n",
    "    \n",
    "    emotion_labels = emotion_dict[index]\n",
    "    \n",
    "    if len(emotion_labels) != len(act_labels):\n",
    "        print(index)"
   ]
  },
  {
   "cell_type": "code",
   "execution_count": null,
   "id": "bde5077e",
   "metadata": {},
   "outputs": [],
   "source": [
    "# Mappers\n",
    "\n",
    "def dialog_act_mapping() -> dict:\n",
    "    \n",
    "    return {\n",
    "        '1': 'inform', '2': 'question', \n",
    "        '3': 'directive', '4': 'commissive'\n",
    "    }\n",
    "\n",
    "def emotion_mapping() -> dict:\n",
    "    \n",
    "    return {\n",
    "        '0': 'neutral', '1': 'anger', '2': 'disgust', \n",
    "        '3: fear, 4: happiness, 5: sadness, 6: surprise}\n",
    "    }"
   ]
  },
  {
   "cell_type": "markdown",
   "id": "55bc72e0",
   "metadata": {},
   "source": [
    "# DailyDialog Dataset Analysis\n",
    "\n",
    "This analysis is divided into the following parts:\n",
    "\n",
    "- Dialog Act and Emotion labels\n",
    "- Utterance-related\n",
    "- Topic-related"
   ]
  },
  {
   "cell_type": "markdown",
   "id": "2d541a03",
   "metadata": {},
   "source": [
    "# Dialog Act and Emotion labels\n",
    "\n",
    "The following sections looks at the visualizations, in relation to dialog act and emotion labels\n",
    "\n",
    "The visualizations are:\n"
   ]
  },
  {
   "cell_type": "code",
   "execution_count": null,
   "id": "54f9271d",
   "metadata": {},
   "outputs": [],
   "source": []
  }
 ],
 "metadata": {
  "kernelspec": {
   "display_name": "Python 3 (ipykernel)",
   "language": "python",
   "name": "python3"
  },
  "language_info": {
   "codemirror_mode": {
    "name": "ipython",
    "version": 3
   },
   "file_extension": ".py",
   "mimetype": "text/x-python",
   "name": "python",
   "nbconvert_exporter": "python",
   "pygments_lexer": "ipython3",
   "version": "3.9.12"
  }
 },
 "nbformat": 4,
 "nbformat_minor": 5
}
