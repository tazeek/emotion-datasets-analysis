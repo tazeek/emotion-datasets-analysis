{
 "cells": [
  {
   "cell_type": "code",
   "execution_count": 1,
   "id": "01cd9cf9",
   "metadata": {},
   "outputs": [],
   "source": [
    "import plotly.express as px"
   ]
  },
  {
   "cell_type": "code",
   "execution_count": 13,
   "id": "f2364593",
   "metadata": {},
   "outputs": [],
   "source": [
    "# Load the labels\n",
    "def load_labels(filename: str) -> dict:\n",
    "    \n",
    "    dict_storage = {}\n",
    "    \n",
    "    with open(filename) as file:\n",
    "        for index, line in enumerate(file):\n",
    "            dict_storage[index] = line.strip().split(' ')\n",
    "    \n",
    "    return dict_storage\n",
    "\n",
    "dialog_act_dict = load_labels('dailydialog/dialogues_act.txt')\n",
    "emotion_dict = load_labels('dailydialog/dialogues_emotion.txt')"
   ]
  },
  {
   "cell_type": "code",
   "execution_count": 14,
   "id": "7a4ad36b",
   "metadata": {},
   "outputs": [],
   "source": [
    "# Validation\n",
    "\n",
    "for index, act_labels in dialog_act_dict.items():\n",
    "    \n",
    "    emotion_labels = emotion_dict[index]\n",
    "    \n",
    "    if len(emotion_labels) != len(act_labels):\n",
    "        print(index)"
   ]
  },
  {
   "cell_type": "code",
   "execution_count": 15,
   "id": "c0e2e6f9",
   "metadata": {},
   "outputs": [],
   "source": [
    "# Mappers\n",
    "\n",
    "def dialog_act_mapping() -> dict:\n",
    "    \n",
    "    return {\n",
    "        '1': 'inform', '2': 'question', \n",
    "        '3': 'directive', '4': 'commissive'\n",
    "    }\n",
    "\n",
    "def emotion_mapping() -> dict:\n",
    "    \n",
    "    return {\n",
    "        '0': 'neutral', '1': 'anger', '2': 'disgust', \n",
    "        '3': 'fear', '4': 'happiness', '5': 'sadness', \n",
    "        '6': 'surprise'\n",
    "    }"
   ]
  },
  {
   "cell_type": "markdown",
   "id": "e6e046fe",
   "metadata": {},
   "source": [
    "# DailyDialog Dataset Analysis\n",
    "\n",
    "This analysis is divided into the following parts:\n",
    "\n",
    "- Dialog Act and Emotion labels\n",
    "- Utterance-related\n",
    "- Topic-related"
   ]
  },
  {
   "cell_type": "markdown",
   "id": "867f5ad0",
   "metadata": {},
   "source": [
    "# Dialog Act and Emotion labels\n",
    "\n",
    "The following sections looks at the visualizations, in relation to dialog act and emotion labels\n",
    "\n",
    "The visualizations are:\n"
   ]
  },
  {
   "cell_type": "code",
   "execution_count": 19,
   "id": "8d74250c",
   "metadata": {},
   "outputs": [
    {
     "name": "stdout",
     "output_type": "stream",
     "text": [
      "0\n",
      "['directive', 'commissive']\n"
     ]
    }
   ],
   "source": [
    "# Knowledge interaction graph for dialog act\n",
    "knowledge_graph_dict = {\n",
    "    'START': {},\n",
    "    'inform': {},\n",
    "    'question': {},\n",
    "    'directive': {},\n",
    "    'comissive': {},\n",
    "    'END': {}\n",
    "}\n",
    "\n",
    "act_label_mapper = dialog_act_mapping()\n",
    "\n",
    "# First token is always 'START'\n",
    "# Last token is always 'END'\n",
    "\n",
    "def translate_labels(act_labels: list) -> list:\n",
    "    return [act_label_mapper[label] for label in act_labels]\n",
    "\n",
    "for index, act_labels in dialog_act_dict.items():\n",
    "    \n",
    "    print(index)\n",
    "    \n",
    "    # Translate labels\n",
    "    act_labels = translate_labels(act_labels)\n",
    "    print(act_labels)\n",
    "    \n",
    "    break"
   ]
  }
 ],
 "metadata": {
  "kernelspec": {
   "display_name": "Python 3 (ipykernel)",
   "language": "python",
   "name": "python3"
  },
  "language_info": {
   "codemirror_mode": {
    "name": "ipython",
    "version": 3
   },
   "file_extension": ".py",
   "mimetype": "text/x-python",
   "name": "python",
   "nbconvert_exporter": "python",
   "pygments_lexer": "ipython3",
   "version": "3.9.12"
  }
 },
 "nbformat": 4,
 "nbformat_minor": 5
}
