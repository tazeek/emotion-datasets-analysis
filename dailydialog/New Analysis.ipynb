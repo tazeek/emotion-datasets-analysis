{
 "cells": [
  {
   "cell_type": "code",
   "execution_count": 1,
   "id": "a509d102",
   "metadata": {},
   "outputs": [],
   "source": [
    "import plotly.express as px"
   ]
  },
  {
   "cell_type": "code",
   "execution_count": 13,
   "id": "9fac7777",
   "metadata": {},
   "outputs": [],
   "source": [
    "# Load the labels\n",
    "def load_labels(filename: str) -> dict:\n",
    "    \n",
    "    dict_storage = {}\n",
    "    \n",
    "    with open(filename) as file:\n",
    "        for index, line in enumerate(file):\n",
    "            dict_storage[index] = line.strip().split(' ')\n",
    "    \n",
    "    return dict_storage\n",
    "\n",
    "dialog_act_dict = load_labels('dailydialog/dialogues_act.txt')\n",
    "emotion_dict = load_labels('dailydialog/dialogues_emotion.txt')"
   ]
  },
  {
   "cell_type": "code",
   "execution_count": 14,
   "id": "74daf280",
   "metadata": {},
   "outputs": [],
   "source": [
    "# Validation\n",
    "\n",
    "for index, act_labels in dialog_act_dict.items():\n",
    "    \n",
    "    emotion_labels = emotion_dict[index]\n",
    "    \n",
    "    if len(emotion_labels) != len(act_labels):\n",
    "        print(index)"
   ]
  },
  {
   "cell_type": "code",
   "execution_count": 26,
   "id": "acc3a2f6",
   "metadata": {},
   "outputs": [],
   "source": [
    "# Mappers\n",
    "\n",
    "act_mapper = {\n",
    "    '1': 'inform', '2': 'question', \n",
    "    '3': 'directive', '4': 'commissive'\n",
    "}\n",
    "\n",
    "emotion_mapper = {\n",
    "    '0': 'neutral', '1': 'anger', '2': 'disgust', \n",
    "    '3': 'fear', '4': 'happiness', '5': 'sadness', \n",
    "    '6': 'surprise'\n",
    "}\n",
    "\n",
    "def translate_labels(act_labels: list) -> list:\n",
    "    return [act_mapper[act] for act in act_labels]\n",
    "\n",
    "def translate_emotion_labels(emotion_labels: list) -> list:\n",
    "    return [emotion_mapper[emotion] for emotion in emotion_labels]"
   ]
  },
  {
   "cell_type": "markdown",
   "id": "61a361b0",
   "metadata": {},
   "source": [
    "# DailyDialog Dataset Analysis\n",
    "\n",
    "This analysis is divided into the following parts:\n",
    "\n",
    "- Dialog Act and Emotion labels\n",
    "- Utterance-related\n",
    "- Topic-related"
   ]
  },
  {
   "cell_type": "markdown",
   "id": "b08c5a35",
   "metadata": {},
   "source": [
    "# Dialog Act and Emotion labels\n",
    "\n",
    "The following sections looks at the visualizations, in relation to dialog act and emotion labels\n",
    "\n",
    "The visualizations are:\n"
   ]
  },
  {
   "cell_type": "code",
   "execution_count": 25,
   "id": "9c3de7a7",
   "metadata": {},
   "outputs": [
    {
     "name": "stdout",
     "output_type": "stream",
     "text": [
      "{'START': {'directive': 3113, 'question': 6469, 'inform': 3531, 'commissive': 5}, 'inform': {'inform': 17843, 'END': 8308, 'directive': 5598, 'question': 14238, 'commissive': 545}, 'question': {'inform': 21817, 'question': 3277, 'directive': 3894, 'END': 405, 'commissive': 35}, 'directive': {'commissive': 9015, 'inform': 983, 'question': 3765, 'END': 1424, 'directive': 2108}, 'commissive': {'END': 2981, 'directive': 2582, 'inform': 2358, 'question': 1679, 'commissive': 125}}\n"
     ]
    }
   ],
   "source": [
    "# Knowledge interaction graph for dialog act\n",
    "knowledge_graph_dict = {\n",
    "    'START': {},\n",
    "    'inform': {},\n",
    "    'question': {},\n",
    "    'directive': {},\n",
    "    'commissive': {}\n",
    "}\n",
    "\n",
    "def perform_mapping(act_labels: list, knowledge_graph: dict) -> dict:\n",
    "    \n",
    "    for index, label in enumerate(act_labels):\n",
    "        \n",
    "        # First label is always 'START'\n",
    "        if index == 0:\n",
    "            knowledge_graph['START'][label] = \\\n",
    "                knowledge_graph['START'].get(label, 0) + 1\n",
    "        \n",
    "        # Last label is always 'END' and break\n",
    "        if index == len(act_labels) - 1:\n",
    "            knowledge_graph[label]['END'] = \\\n",
    "                knowledge_graph[label].get('END', 0) + 1\n",
    "            break\n",
    "        \n",
    "        # Fetch the next label\n",
    "        # Find the connection\n",
    "        next_label = act_labels[index + 1]\n",
    "        knowledge_graph[label][next_label] = \\\n",
    "            knowledge_graph[label].get(next_label, 0) + 1\n",
    "    \n",
    "    return knowledge_graph\n",
    "\n",
    "for index, act_labels in dialog_act_dict.items():\n",
    "\n",
    "    # Translate labels\n",
    "    act_labels = translate_labels(act_labels)\n",
    "    knowledge_graph_dict = perform_mapping(act_labels, knowledge_graph_dict)\n",
    "\n",
    "print(knowledge_graph_dict)"
   ]
  },
  {
   "cell_type": "code",
   "execution_count": 33,
   "id": "eeeec0c8",
   "metadata": {},
   "outputs": [
    {
     "name": "stdout",
     "output_type": "stream",
     "text": [
      "{'inform': {'inform': 2653, 'question': 1074, 'directive': 473, 'commissive': 138}, 'question': {'inform': 1622, 'question': 205, 'directive': 147, 'commissive': 4}, 'directive': {'inform': 118, 'commissive': 1498, 'question': 220, 'directive': 104}, 'commissive': {'inform': 455, 'question': 100, 'directive': 161, 'commissive': 24}}\n"
     ]
    }
   ],
   "source": [
    "# If current utterance is neutral and the next utterance is non-neutral\n",
    "# Find the dialog act of the current utterance and the next utterance\n",
    "\n",
    "# The 'Key' is the neutral emotion act, \n",
    "# while the inner 'Keys' are the non-neutral emotions act\n",
    "\n",
    "# WHY: We want to know what actually triggers the emotion inertia\n",
    "\n",
    "emotion_trigger_dict = {\n",
    "    'inform': {},\n",
    "    'question': {},\n",
    "    'directive': {},\n",
    "    'commissive': {}\n",
    "}\n",
    "\n",
    "def find_the_triggers(act_labels, emotion_labels, trigger_dict):\n",
    "    \n",
    "    for index, emotion in enumerate(emotion_labels):\n",
    "        \n",
    "        # Check if this is the end\n",
    "        if index == len(emotion_labels) - 1:\n",
    "            break\n",
    "            \n",
    "        # Check if next emotion is non-neutral\n",
    "        next_emotion = emotion_labels[index + 1]\n",
    "        \n",
    "        # Condition: current emotion is neutral, next emotion is not\n",
    "        if emotion == 'neutral' and next_emotion != 'neutral':\n",
    "            \n",
    "            current_dialog_act = act_labels[index]\n",
    "            next_dialog_act = act_labels[index + 1]\n",
    "            \n",
    "            trigger_dict[current_dialog_act][next_dialog_act] = \\\n",
    "                trigger_dict[current_dialog_act].get(next_dialog_act, 0) + 1\n",
    "            \n",
    "    return trigger_dict\n",
    "\n",
    "for index, act_labels in dialog_act_dict.items():\n",
    "    \n",
    "    # Translate the labels\n",
    "    act_labels = translate_labels(act_labels)\n",
    "    \n",
    "    # Translate the emotions\n",
    "    emotion_labels = translate_emotion_labels(emotion_dict[index])\n",
    "    \n",
    "    emotion_trigger_dict = find_the_triggers(act_labels, emotion_labels, emotion_trigger_dict)\n",
    "\n",
    "print(emotion_trigger_dict)"
   ]
  },
  {
   "cell_type": "code",
   "execution_count": 35,
   "id": "5a408e5b",
   "metadata": {},
   "outputs": [
    {
     "name": "stdout",
     "output_type": "stream",
     "text": [
      "{'inform': {'inform': 5781, 'question': 3436, 'directive': 1637, 'commissive': 164}, 'question': {'inform': 4336, 'question': 613, 'directive': 467, 'commissive': 4}, 'directive': {'inform': 158, 'commissive': 2168, 'question': 502, 'directive': 274}, 'commissive': {'inform': 971, 'question': 502, 'directive': 733, 'commissive': 32}}\n"
     ]
    }
   ],
   "source": [
    "# If current utterance is non-neutral and the next utterance is neutral\n",
    "# Find the dialog act of the current utterance and the next utterance\n",
    "\n",
    "# The 'Key' is the non-neutral emotion act, \n",
    "# while the inner 'Keys' are the neutral\n",
    "\n",
    "# WHY: We want to know what actually stops the emotion inertia\n",
    "\n",
    "potong_stim_dict = {\n",
    "    'inform': {},\n",
    "    'question': {},\n",
    "    'directive': {},\n",
    "    'commissive': {}\n",
    "}\n",
    "\n",
    "def find_the_triggers(act_labels, emotion_labels, trigger_dict):\n",
    "    \n",
    "    for index, current_emotion in enumerate(emotion_labels):\n",
    "        \n",
    "        # Check if this is the end\n",
    "        if index == len(emotion_labels) - 1:\n",
    "            break\n",
    "            \n",
    "        # Check if next emotion is neutral\n",
    "        next_emotion = emotion_labels[index + 1]\n",
    "        \n",
    "        # Condition: current emotion is non-neutral, next emotion is neutral\n",
    "        if current_emotion != 'neutral' and next_emotion == 'neutral':\n",
    "            \n",
    "            current_dialog_act = act_labels[index]\n",
    "            next_dialog_act = act_labels[index + 1]\n",
    "            \n",
    "            trigger_dict[current_dialog_act][next_dialog_act] = \\\n",
    "                trigger_dict[current_dialog_act].get(next_dialog_act, 0) + 1\n",
    "            \n",
    "    return trigger_dict\n",
    "\n",
    "for index, act_labels in dialog_act_dict.items():\n",
    "    \n",
    "    # Translate the labels\n",
    "    act_labels = translate_labels(act_labels)\n",
    "    \n",
    "    # Translate the emotions\n",
    "    emotion_labels = translate_emotion_labels(emotion_dict[index])\n",
    "    \n",
    "    potong_stim_dict = find_the_triggers(act_labels, emotion_labels, emotion_trigger_dict)\n",
    "\n",
    "print(potong_stim_dict)"
   ]
  }
 ],
 "metadata": {
  "kernelspec": {
   "display_name": "Python 3 (ipykernel)",
   "language": "python",
   "name": "python3"
  },
  "language_info": {
   "codemirror_mode": {
    "name": "ipython",
    "version": 3
   },
   "file_extension": ".py",
   "mimetype": "text/x-python",
   "name": "python",
   "nbconvert_exporter": "python",
   "pygments_lexer": "ipython3",
   "version": "3.9.12"
  }
 },
 "nbformat": 4,
 "nbformat_minor": 5
}
