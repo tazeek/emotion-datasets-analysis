{
 "cells": [
  {
   "cell_type": "markdown",
   "id": "5fb0518b",
   "metadata": {},
   "source": [
    "# Information mapping on the text files\n",
    "\n",
    "For dialogues_topic.txt: \n",
    "\n",
    "```\n",
    "{\n",
    "    1: Ordinary Life, 2: School Life, 3: Culture & Education,\n",
    "    4: Attitude & Emotion, 5: Relationship, 6: Tourism , 7: Health, \n",
    "    8: Work, 9: Politics, 10: Finance\n",
    "}\n",
    "```\n",
    "The number corresponds to the given **topic**.\n",
    "\n",
    "---\n",
    "\n",
    "For dialogues_act.txt:\n",
    "\n",
    "```\n",
    "{ \n",
    "    1: inform，2: question, 3: directive, 4: commissive \n",
    "}\n",
    "```\n",
    "The number corresponds to the **dialog act annotations** in dialogues_text.txt.\n",
    "\n",
    "----\n",
    "\n",
    "For dialogues_emotion.txt:\n",
    "\n",
    "```\n",
    "{ \n",
    "    0: no emotion, 1: anger, 2: disgust, 3: fear, \n",
    "    4: happiness, 5: sadness, 6: surprise\n",
    "}\n",
    "```\n",
    "\n",
    "Each line corresponds to the **emotion annotations** in dialogues_text.txt."
   ]
  },
  {
   "cell_type": "code",
   "execution_count": 2,
   "id": "5807ca07",
   "metadata": {},
   "outputs": [],
   "source": [
    "def topic_mapping() -> dict:\n",
    "    return {\n",
    "        '1': 'Ordinary Life', '2': 'School Life', '3': 'Culture & Education',\n",
    "        '4': 'Attitude & Emotion', '5': 'Relationship', '6': 'Tourism' , '7': 'Health', \n",
    "        '8': 'Work', '9': 'Politics', '10': 'Finance'\n",
    "    }\n",
    "\n",
    "def dialog_mapping() -> dict:\n",
    "    return {\n",
    "        '1': 'inform', '2': 'question', '3': 'directive', '4': 'commissive'\n",
    "    }\n",
    "\n",
    "def emotion_mapping() -> dict:\n",
    "    return { \n",
    "        '0': 'no emotion', '1': 'anger', '2': 'disgust', '3': 'fear', \n",
    "        '4': 'happiness', '5': 'sadness', '6': 'surprise'\n",
    "    }"
   ]
  },
  {
   "cell_type": "code",
   "execution_count": 35,
   "id": "db206d27",
   "metadata": {},
   "outputs": [
    {
     "name": "stdout",
     "output_type": "stream",
     "text": [
      "13118\n",
      "13118\n",
      "13118\n"
     ]
    }
   ],
   "source": [
    "\"\"\"\n",
    "    Loading all the labels\n",
    "\"\"\"\n",
    "\n",
    "def read_label_file(label_file: str) -> dict:\n",
    "    label_dict = {}\n",
    "    \n",
    "    with open(f\"data\\{label_file}\") as file:\n",
    "         for index, line in enumerate(file.readlines()):\n",
    "            label_dict[index] = line.split()\n",
    "            \n",
    "    return label_dict\n",
    "\n",
    "emotion_labels_dict = read_label_file('dialogues_emotion.txt')\n",
    "print(len(emotion_labels_dict))\n",
    "\n",
    "annotation_labels_dict = read_label_file('dialogues_act.txt')\n",
    "print(len(annotation_labels_dict))\n",
    "\n",
    "topic_labels_dict = read_label_file('dialogues_topic.txt')\n",
    "print(len(topic_labels_dict))"
   ]
  },
  {
   "cell_type": "code",
   "execution_count": 54,
   "id": "f5f47514",
   "metadata": {},
   "outputs": [
    {
     "name": "stdout",
     "output_type": "stream",
     "text": [
      "13118\n"
     ]
    }
   ],
   "source": [
    "\"\"\"\n",
    "    Loading the text file\n",
    "\"\"\"\n",
    "\n",
    "def read_utterances_text() -> dict:\n",
    "    \n",
    "    utterances_dict = {}\n",
    "    \n",
    "    with open(\"data\\dialogues_text.txt\", encoding='utf8') as file:\n",
    "        for index,line in enumerate(file.readlines()):\n",
    "            utterances = line.split('__eou__')\n",
    "            \n",
    "            # Remove the '\\n' character\n",
    "            utterances.pop()\n",
    "            utterances_dict[index] = utterances\n",
    "    \n",
    "    return utterances_dict\n",
    "\n",
    "utterances_dict = read_utterances_text()\n",
    "print(len(utterances_dict))"
   ]
  },
  {
   "cell_type": "markdown",
   "id": "990a2218",
   "metadata": {},
   "source": [
    "# Self Analysis\n",
    "\n",
    "- The readme.txt says there is supposed to be 11,318 dialogues; however, the output from the text file is different. It shows 13,118"
   ]
  }
 ],
 "metadata": {
  "kernelspec": {
   "display_name": "Python 3 (ipykernel)",
   "language": "python",
   "name": "python3"
  },
  "language_info": {
   "codemirror_mode": {
    "name": "ipython",
    "version": 3
   },
   "file_extension": ".py",
   "mimetype": "text/x-python",
   "name": "python",
   "nbconvert_exporter": "python",
   "pygments_lexer": "ipython3",
   "version": "3.9.12"
  }
 },
 "nbformat": 4,
 "nbformat_minor": 5
}
