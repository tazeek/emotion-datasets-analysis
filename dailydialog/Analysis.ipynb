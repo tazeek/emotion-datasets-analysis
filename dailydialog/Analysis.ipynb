{
 "cells": [
  {
   "cell_type": "markdown",
   "id": "60cf5355",
   "metadata": {},
   "source": [
    "# Information mapping on the text files\n",
    "\n",
    "For dialogues_topic.txt: \n",
    "\n",
    "```\n",
    "{\n",
    "    1: Ordinary Life, 2: School Life, 3: Culture & Education,\n",
    "    4: Attitude & Emotion, 5: Relationship, 6: Tourism , 7: Health, \n",
    "    8: Work, 9: Politics, 10: Finance\n",
    "}\n",
    "```\n",
    "The number corresponds to the given **topic**.\n",
    "\n",
    "---\n",
    "\n",
    "For dialogues_act.txt:\n",
    "\n",
    "```\n",
    "{ \n",
    "    1: inform，2: question, 3: directive, 4: commissive \n",
    "}\n",
    "```\n",
    "The number corresponds to the **dialog act annotations** in dialogues_text.txt.\n",
    "\n",
    "----\n",
    "\n",
    "For dialogues_emotion.txt:\n",
    "\n",
    "```\n",
    "{ \n",
    "    0: no emotion, 1: anger, 2: disgust, 3: fear, \n",
    "    4: happiness, 5: sadness, 6: surprise\n",
    "}\n",
    "```\n",
    "\n",
    "Each line corresponds to the **emotion annotations** in dialogues_text.txt."
   ]
  },
  {
   "cell_type": "code",
   "execution_count": null,
   "id": "ecc10796",
   "metadata": {},
   "outputs": [],
   "source": [
    "def topic_mapping() -> dict:\n",
    "    return {\n",
    "        '1': 'Ordinary Life', '2': 'School Life', '3': 'Culture & Education',\n",
    "        '4': 'Attitude & Emotion', '5': 'Relationship', '6': 'Tourism' , '7': 'Health', \n",
    "        '8': 'Work', '9': 'Politics', '10': 'Finance'\n",
    "    }"
   ]
  }
 ],
 "metadata": {
  "kernelspec": {
   "display_name": "Python 3 (ipykernel)",
   "language": "python",
   "name": "python3"
  },
  "language_info": {
   "codemirror_mode": {
    "name": "ipython",
    "version": 3
   },
   "file_extension": ".py",
   "mimetype": "text/x-python",
   "name": "python",
   "nbconvert_exporter": "python",
   "pygments_lexer": "ipython3",
   "version": "3.9.12"
  }
 },
 "nbformat": 4,
 "nbformat_minor": 5
}
