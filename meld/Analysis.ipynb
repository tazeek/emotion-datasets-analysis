{
 "cells": [
  {
   "cell_type": "code",
   "execution_count": 1,
   "id": "77f8ff33",
   "metadata": {},
   "outputs": [],
   "source": [
    "import json"
   ]
  },
  {
   "cell_type": "code",
   "execution_count": 5,
   "id": "1e1106cd",
   "metadata": {},
   "outputs": [
    {
     "name": "stdout",
     "output_type": "stream",
     "text": [
      "dict_keys(['dev', 'test', 'train'])\n"
     ]
    }
   ],
   "source": [
    "json_file = json.load(open('data_level0.json', encoding=\"utf8\"))\n",
    "print(json_file.keys())"
   ]
  },
  {
   "cell_type": "code",
   "execution_count": 8,
   "id": "843c673d",
   "metadata": {},
   "outputs": [
    {
     "name": "stdout",
     "output_type": "stream",
     "text": [
      "dev\n",
      "1108\n",
      "\n",
      "\n",
      "\n",
      "test\n",
      "2610\n",
      "\n",
      "\n",
      "\n",
      "train\n",
      "9989\n",
      "\n",
      "\n",
      "\n"
     ]
    }
   ],
   "source": [
    "def extract_data(key: str, json_file: json) -> dict:\n",
    "    print(len(json_file[key]))\n",
    "\n",
    "keys = json_file.keys()\n",
    "\n",
    "for key in keys:\n",
    "    print(key)\n",
    "    extract_data(key, json_file)\n",
    "    print(\"\\n\\n\")"
   ]
  },
  {
   "cell_type": "code",
   "execution_count": null,
   "id": "babd7a5a",
   "metadata": {},
   "outputs": [],
   "source": []
  }
 ],
 "metadata": {
  "kernelspec": {
   "display_name": "Python 3 (ipykernel)",
   "language": "python",
   "name": "python3"
  },
  "language_info": {
   "codemirror_mode": {
    "name": "ipython",
    "version": 3
   },
   "file_extension": ".py",
   "mimetype": "text/x-python",
   "name": "python",
   "nbconvert_exporter": "python",
   "pygments_lexer": "ipython3",
   "version": "3.9.12"
  }
 },
 "nbformat": 4,
 "nbformat_minor": 5
}
