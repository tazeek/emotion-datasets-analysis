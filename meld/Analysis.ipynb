{
 "cells": [
  {
   "cell_type": "code",
   "execution_count": null,
   "id": "c5609ea9",
   "metadata": {},
   "outputs": [],
   "source": [
    "import json\n",
    "import plotly.express as px\n",
    "import pandas as pd"
   ]
  },
  {
   "cell_type": "code",
   "execution_count": null,
   "id": "631cf04a",
   "metadata": {},
   "outputs": [],
   "source": [
    "json_file = json.load(open('data_level0.json', encoding=\"utf8\"))\n",
    "keys = json_file.keys()\n",
    "print(keys)"
   ]
  },
  {
   "cell_type": "code",
   "execution_count": null,
   "id": "974f033e",
   "metadata": {},
   "outputs": [],
   "source": [
    "def extract_data(key: str, json_file: json) -> dict:\n",
    "    print(f\"Total number of Utterances: {len(json_file[key])}\")\n",
    "\n",
    "for key in keys:\n",
    "    print(key)\n",
    "    extract_data(key, json_file)\n",
    "    print(\"\\n\\n\")"
   ]
  },
  {
   "cell_type": "markdown",
   "id": "612f210c",
   "metadata": {},
   "source": [
    "# Pre-processing Rules\n",
    "\n",
    "- Replace '’' with '''. (Issue: mixture of apostrophe)"
   ]
  },
  {
   "cell_type": "markdown",
   "id": "ac40ad06",
   "metadata": {},
   "source": [
    "# Layer 1\n",
    "\n",
    "- Count the distribution of emotion\n",
    "- Count the number of sentiments"
   ]
  },
  {
   "cell_type": "code",
   "execution_count": null,
   "id": "d4fd2a7a",
   "metadata": {},
   "outputs": [],
   "source": [
    "emotion_count = {}\n",
    "sentiment_count = {}\n",
    "\n",
    "sentiment_emotion_count = {\n",
    "    'positive': {},\n",
    "    'negative': {},\n",
    "    'neutral': {}\n",
    "}\n",
    "\n",
    "dialog_length_emotion = {\n",
    "    'even': {},\n",
    "    'odd': {}\n",
    "}\n",
    "\n",
    "dialogue_dict = {}\n",
    "utterance_length = []\n",
    "dialog_length_list = []\n",
    "\n",
    "speakers_per_dialogue = []\n",
    "\n",
    "emotion_utter_dict = {}\n",
    "\n",
    "def concat_dialogue_dict(dialogue_dict: dict, dialog_id: str, utterance: str) -> None:\n",
    "    \n",
    "    # Check if\n",
    "    dialogue_dict[dialog_id] = dialogue_dict.get(dialog_id, 0) + 1\n",
    "    \n",
    "    return None\n",
    "\n",
    "def preprocessing_utterance(utterance: str) -> str:\n",
    "    utterance = utterance.replace(\"’\",\"'\")\n",
    "    \n",
    "    return utterance\n",
    "\n",
    "# Use Train dataset for testing\n",
    "for key in ['train']:\n",
    "    \n",
    "    # Extract all the dialogue in given array\n",
    "    # dia0_utt0 -> Dialogue 0, Utterance 0\n",
    "    utterance_dialogue_list = json_file[key]\n",
    "    \n",
    "    curr_dialog = \"\"\n",
    "    speakers_list = []\n",
    "    total_dialog_length = 0\n",
    "    total_utterance = 0\n",
    "    emotion_list = []\n",
    "    \n",
    "    # Go through one utterance at a time\n",
    "    for utterance_id in utterance_dialogue_list.keys():\n",
    "        \n",
    "        utter_dict = utterance_dialogue_list[utterance_id]\n",
    "        \n",
    "        dialog_num, utt_num = utterance_id.split(\"_\")\n",
    "        \n",
    "        # New dialog is in place\n",
    "        if dialog_num != curr_dialog:\n",
    "            curr_dialog = dialog_num\n",
    "            \n",
    "            speakers_per_dialogue += [len(speakers_list)]\n",
    "            dialog_length_list += [total_dialog_length]\n",
    "            \n",
    "            value = 'odd' if total_utterance % 2 != 0 else 'even'\n",
    "            \n",
    "            for emotion in emotion_list:\n",
    "                inner_dict = dialog_length_emotion[value]\n",
    "                \n",
    "                if emotion not in inner_dict:\n",
    "                    dialog_length_emotion[value][emotion] = 1\n",
    "                else:\n",
    "                    dialog_length_emotion[value][emotion] +=1\n",
    "                \n",
    "            speakers_list = []\n",
    "            total_dialog_length = 0\n",
    "            total_utterance = 0\n",
    "            emotion_list = []\n",
    "        \n",
    "        # Preprocessing\n",
    "        utterance = preprocessing_utterance(utter_dict['Utterance'])\n",
    "        \n",
    "        # Add utterance to dialog dictionary, due dataset structure.\n",
    "        concat_dialogue_dict(dialogue_dict, utter_dict['Dialogue_ID'], utterance)\n",
    "        \n",
    "        # Find the length of an utterance\n",
    "        utterance_tokens = len(utterance.split(\" \"))\n",
    "        utterance_length += [utterance_tokens]\n",
    "        total_dialog_length += utterance_tokens\n",
    "        total_utterance += 1\n",
    "        \n",
    "        # For emotion and sentiment labels\n",
    "        emotion = utter_dict['Emotion']\n",
    "        sentiment = utter_dict['Sentiment']\n",
    "        \n",
    "        emotion_list.append(emotion)\n",
    "        \n",
    "        # Count number of emotions per sentiment\n",
    "        if emotion not in sentiment_emotion_count[sentiment]:\n",
    "            sentiment_emotion_count[sentiment][emotion] = 1\n",
    "        else:\n",
    "            sentiment_emotion_count[sentiment][emotion] += 1\n",
    "            \n",
    "        if emotion not in emotion_utter_dict:\n",
    "            emotion_utter_dict[emotion] = [utterance_tokens]\n",
    "        else:\n",
    "            emotion_utter_dict[emotion] += [utterance_tokens]\n",
    "        \n",
    "        emotion_count[emotion] = emotion_count.get(emotion, 0) + 1\n",
    "        sentiment_count[sentiment] = sentiment_count.get(sentiment, 0) + 1\n",
    "        \n",
    "        # Speaker information\n",
    "        speaker = utter_dict['Speaker']\n",
    "        if speaker not in speakers_list:\n",
    "            speakers_list += [speaker]"
   ]
  },
  {
   "cell_type": "code",
   "execution_count": null,
   "id": "28930493",
   "metadata": {},
   "outputs": [],
   "source": [
    "emotion_count_df = pd.DataFrame(emotion_count.items(), columns=['emotion', 'count'])\n",
    "\n",
    "fig = px.bar(emotion_count_df, x='emotion', y='count', title='Emotion Counts')\n",
    "fig.update_layout(hovermode=\"x\")\n",
    "fig.show()"
   ]
  },
  {
   "cell_type": "code",
   "execution_count": null,
   "id": "418f6fe4",
   "metadata": {},
   "outputs": [],
   "source": [
    "sentiment_count_df = pd.DataFrame(sentiment_count.items(), columns=['sentiment', 'count'])\n",
    "\n",
    "fig = px.bar(sentiment_count_df, x='sentiment', y='count', title='Topic Counts')\n",
    "fig.update_layout(hovermode=\"x\")\n",
    "fig.show()"
   ]
  },
  {
   "cell_type": "markdown",
   "id": "11bf2eea",
   "metadata": {},
   "source": [
    "# Layer 2\n",
    "\n",
    "- Count the number of utterances and distribution (Histogram)\n",
    "- Count the number of tokens and distribution (Histogram)"
   ]
  },
  {
   "cell_type": "code",
   "execution_count": null,
   "id": "b0ee14c0",
   "metadata": {},
   "outputs": [],
   "source": [
    "dialogue_df = pd.DataFrame(dialogue_dict.values(), columns=['utterance_per_dialogue'])\n",
    "\n",
    "fig = px.histogram(dialogue_df, x=\"utterance_per_dialogue\")\n",
    "fig.update_layout(bargap=0.5, hovermode=\"x unified\")\n",
    "fig.show()"
   ]
  },
  {
   "cell_type": "code",
   "execution_count": null,
   "id": "5763a99d",
   "metadata": {},
   "outputs": [],
   "source": [
    "utterance_length_df = pd.DataFrame(utterance_length, columns=['utterance_length'])\n",
    "\n",
    "fig = px.histogram(utterance_length_df, x=\"utterance_length\")\n",
    "fig.update_layout(bargap=0.5, hovermode=\"x\")\n",
    "fig.show()"
   ]
  },
  {
   "cell_type": "markdown",
   "id": "df468491",
   "metadata": {},
   "source": [
    "# Self-Analysis\n",
    "\n",
    "- Starting line number in JSON: Dev(2), Train(48340), Valid(14408)\n",
    "- There are 1038 dialogues in the training dataset, which consists of 9989 utterances\n",
    "- The utterances needs to be re-sorted, as the dataset utterances are in random order (does not follow sequence)\n",
    "- There are 80,258 tokens from 9989 utterances in the training dataset"
   ]
  },
  {
   "cell_type": "markdown",
   "id": "8e1aeb6e",
   "metadata": {},
   "source": [
    "# Layer 3\n",
    "\n",
    "- Break down sentiments to find distribution of emotions\n",
    "- Find the number of speakers per dialog\n",
    "- Cross check utterance length and emotion (Even number length vs odd number length)\n",
    "- Distribution of total utterance length in one dialog\n",
    "- Cross check utterance length and emotions\n",
    "- Check the nature of dialogue (DailyDialog (Simulated) vs MELD vs EmoryNLP) -> More in-depth analysis"
   ]
  },
  {
   "cell_type": "code",
   "execution_count": null,
   "id": "7372d225",
   "metadata": {},
   "outputs": [],
   "source": [
    "# Break down sentiments to find distribution of emotions\n",
    "#print(sentiment_emotion_count)"
   ]
  },
  {
   "cell_type": "code",
   "execution_count": null,
   "id": "c99043ab",
   "metadata": {},
   "outputs": [],
   "source": [
    "# Find the number of speakers per dialog\n",
    "\n",
    "#speakers_per_dialogue.pop(0)\n",
    "#print(speakers_per_dialogue)"
   ]
  },
  {
   "cell_type": "code",
   "execution_count": null,
   "id": "f82fc58d",
   "metadata": {},
   "outputs": [],
   "source": [
    "# Cross check dialog length and emotion\n",
    "#print(dialog_length_emotion)"
   ]
  },
  {
   "cell_type": "code",
   "execution_count": null,
   "id": "07415f93",
   "metadata": {},
   "outputs": [],
   "source": [
    "# Find the total length of utterances in one dialog\n",
    "#dialog_length_list.pop(0)\n",
    "#print(dialog_length_list)"
   ]
  },
  {
   "cell_type": "code",
   "execution_count": null,
   "id": "71c7fa78",
   "metadata": {},
   "outputs": [],
   "source": [
    "# Check coorelation between utterance length and emotions\n",
    "#print(emotion_utter_dict)"
   ]
  }
 ],
 "metadata": {
  "kernelspec": {
   "display_name": "Python 3 (ipykernel)",
   "language": "python",
   "name": "python3"
  },
  "language_info": {
   "codemirror_mode": {
    "name": "ipython",
    "version": 3
   },
   "file_extension": ".py",
   "mimetype": "text/x-python",
   "name": "python",
   "nbconvert_exporter": "python",
   "pygments_lexer": "ipython3",
   "version": "3.9.6"
  }
 },
 "nbformat": 4,
 "nbformat_minor": 5
}
