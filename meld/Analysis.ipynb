{
 "cells": [
  {
   "cell_type": "code",
   "execution_count": 1,
   "id": "c5609ea9",
   "metadata": {},
   "outputs": [],
   "source": [
    "import json"
   ]
  },
  {
   "cell_type": "code",
   "execution_count": 2,
   "id": "631cf04a",
   "metadata": {},
   "outputs": [
    {
     "name": "stdout",
     "output_type": "stream",
     "text": [
      "dict_keys(['dev', 'test', 'train'])\n"
     ]
    }
   ],
   "source": [
    "json_file = json.load(open('data_level0.json', encoding=\"utf8\"))\n",
    "keys = json_file.keys()\n",
    "print(keys)"
   ]
  },
  {
   "cell_type": "code",
   "execution_count": 3,
   "id": "974f033e",
   "metadata": {},
   "outputs": [
    {
     "name": "stdout",
     "output_type": "stream",
     "text": [
      "dev\n",
      "1108\n",
      "\n",
      "\n",
      "\n",
      "test\n",
      "2610\n",
      "\n",
      "\n",
      "\n",
      "train\n",
      "9989\n",
      "\n",
      "\n",
      "\n"
     ]
    }
   ],
   "source": [
    "def extract_data(key: str, json_file: json) -> dict:\n",
    "    print(len(json_file[key]))\n",
    "\n",
    "for key in keys:\n",
    "    print(key)\n",
    "    extract_data(key, json_file)\n",
    "    print(\"\\n\\n\")"
   ]
  },
  {
   "cell_type": "markdown",
   "id": "6320d327",
   "metadata": {},
   "source": [
    "# Pre-processing Rules\n",
    "\n",
    "- Replace '’' with '''. (Issue: mixture of apostrophe)"
   ]
  },
  {
   "cell_type": "code",
   "execution_count": 4,
   "id": "ecbdfb67",
   "metadata": {},
   "outputs": [],
   "source": [
    "# Use Train dataset for testing\n",
    "for key in ['train']:\n",
    "    \n",
    "    # Extract all the dialogue in given array\n",
    "    # dia0_utt0 -> Dialogue 0, Utterance 0\n",
    "    dialogue_list = json_file[key]\n",
    "    #print(dialogue_list.keys())\n",
    "    break"
   ]
  },
  {
   "cell_type": "markdown",
   "id": "481b354a",
   "metadata": {},
   "source": [
    "# Layer 1\n",
    "\n",
    "- Count the distribution of emotion\n",
    "- Count the number of sentiments"
   ]
  },
  {
   "cell_type": "markdown",
   "id": "41d47f26",
   "metadata": {},
   "source": [
    "# Layer 2\n",
    "\n",
    "- Count the number of utterances and distribution (Histogram)\n",
    "- Count the number of tokens and distribution (Histogram)"
   ]
  }
 ],
 "metadata": {
  "kernelspec": {
   "display_name": "Python 3 (ipykernel)",
   "language": "python",
   "name": "python3"
  },
  "language_info": {
   "codemirror_mode": {
    "name": "ipython",
    "version": 3
   },
   "file_extension": ".py",
   "mimetype": "text/x-python",
   "name": "python",
   "nbconvert_exporter": "python",
   "pygments_lexer": "ipython3",
   "version": "3.9.12"
  }
 },
 "nbformat": 4,
 "nbformat_minor": 5
}
