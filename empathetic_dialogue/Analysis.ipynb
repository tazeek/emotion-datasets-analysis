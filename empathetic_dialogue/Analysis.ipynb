{
 "cells": [
  {
   "cell_type": "code",
   "execution_count": 1,
   "id": "2dbd6a07",
   "metadata": {},
   "outputs": [],
   "source": [
    "import pandas as pd"
   ]
  },
  {
   "cell_type": "code",
   "execution_count": 2,
   "id": "c0baa67e",
   "metadata": {},
   "outputs": [
    {
     "name": "stdout",
     "output_type": "stream",
     "text": [
      "76668\n"
     ]
    }
   ],
   "source": [
    "def load_file(filename: str):\n",
    "    return pd.read_csv(filename, on_bad_lines='skip')\n",
    "\n",
    "train_file = load_file('data/train.csv')\n",
    "print(len(train_file))"
   ]
  },
  {
   "cell_type": "code",
   "execution_count": null,
   "id": "f31aca0a",
   "metadata": {},
   "outputs": [],
   "source": [
    "# Preprocessing"
   ]
  },
  {
   "cell_type": "markdown",
   "id": "875c0ca9",
   "metadata": {},
   "source": [
    "# Layer 1\n",
    "\n",
    "- Count the number of emotions\n",
    "- Count the average utterances per dialogue"
   ]
  },
  {
   "cell_type": "code",
   "execution_count": null,
   "id": "c3586583",
   "metadata": {},
   "outputs": [],
   "source": []
  }
 ],
 "metadata": {
  "kernelspec": {
   "display_name": "Python 3 (ipykernel)",
   "language": "python",
   "name": "python3"
  },
  "language_info": {
   "codemirror_mode": {
    "name": "ipython",
    "version": 3
   },
   "file_extension": ".py",
   "mimetype": "text/x-python",
   "name": "python",
   "nbconvert_exporter": "python",
   "pygments_lexer": "ipython3",
   "version": "3.9.12"
  }
 },
 "nbformat": 4,
 "nbformat_minor": 5
}
